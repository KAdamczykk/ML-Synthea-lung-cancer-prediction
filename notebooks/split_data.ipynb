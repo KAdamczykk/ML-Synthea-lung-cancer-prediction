{
 "cells": [
  {
   "cell_type": "code",
   "execution_count": 1,
   "metadata": {},
   "outputs": [],
   "source": [
    "import pandas as pd\n",
    "import warnings\n",
    "warnings.filterwarnings('ignore')\n",
    "from sklearn.model_selection import train_test_split"
   ]
  },
  {
   "cell_type": "code",
   "execution_count": 2,
   "metadata": {},
   "outputs": [],
   "source": [
    "df = pd.read_csv(\"C:/PW/Semestr 4/WB/Projekt/data/synthea-pt90k-lc-data-sel-convert.csv\")\n",
    "learning_data, validation_data = train_test_split(df, test_size=0.3, random_state=42)\n",
    "\n",
    "learning_data.to_csv(\"C:/PW/Semestr 4/WB/Projekt/data/learning_data.csv\", index=False)\n",
    "validation_data.to_csv(\"C:/PW/Semestr 4/WB/Projekt/validation_data/validation_data.csv\", index=False)"
   ]
  }
 ],
 "metadata": {
  "kernelspec": {
   "display_name": "DataFrames",
   "language": "python",
   "name": "python3"
  },
  "language_info": {
   "codemirror_mode": {
    "name": "ipython",
    "version": 3
   },
   "file_extension": ".py",
   "mimetype": "text/x-python",
   "name": "python",
   "nbconvert_exporter": "python",
   "pygments_lexer": "ipython3",
   "version": "3.9.13"
  }
 },
 "nbformat": 4,
 "nbformat_minor": 2
}
